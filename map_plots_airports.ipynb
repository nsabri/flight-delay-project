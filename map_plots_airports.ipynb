{
 "cells": [
  {
   "cell_type": "code",
   "execution_count": 1,
   "id": "0eb9110a",
   "metadata": {},
   "outputs": [],
   "source": [
    "# necessary libraries\n",
    "import pandas as pd\n",
    "import numpy as np\n",
    "import datetime\n",
    "import matplotlib.pyplot as plt\n",
    "import seaborn as sns\n",
    "import plotly.express as px"
   ]
  },
  {
   "cell_type": "code",
   "execution_count": 2,
   "id": "c4c598eb",
   "metadata": {},
   "outputs": [
    {
     "data": {
      "application/vnd.plotly.v1+json": {
       "config": {
        "plotlyServerURL": "https://plot.ly"
       },
       "data": [
        {
         "hovertemplate": "sum=%{marker.size}<br>arr_lat=%{lat}<br>arr_lon=%{lon}<extra></extra>",
         "lat": {
          "bdata": "t2J/2T1pQkDOiNLe4ItMQHkB9tGpCxVAvsEXJlMlQ0CRD3o2q5ZBQJzEILByWEJA8BZIUPy4P0DWxW00gCdKQJYhjnVx001AufyH9Nv3QkAldQKaCHNCQCDSb18HpkRAwOyePCxUREDwhclUwWhGQKmkTkAT6UBAQmDl0CJbQkD+1HjpJhEpQEmdgCbC3ktAoyO5/IdERkBuowG8BWpGQAu1pnnHkURAQfFjzF2TSEClTkATYXNJQL3jFB3JFUhAEOm3rwO3R0DD0ytlGQpDQNV46SYxoENA5WGh1jQfPkC3Yn/ZPYFIQJ/Nqs/VbklAZcdGIF4nI0DXo3A9Cq9AQK+ZfLPNbRlAZRniWBfPS0BfKcsQxzpJQBfZzvdTI0JAAAAAAADwQEDQs1n1uXotQKCJsOHpRTlA16NwPQpXLUCTGARWDqVJQMrDQq1pHkJAo5I6AU20P0AOT6+UZRBEQOY/pN++LifAkX77OnDmREBeukkMAosRwHh6pSxDBElAY+5aQj7wQEC8dJMYBDZBQGEyVTAqMUBA9dvXgXOuRkC8lpAPeh5HQMIXJlMFO0pA/7J78rDQSkAJih9j7uo+QJYhjnVxM0lAXkvIBz2jRECSXP5D+q01QJwzorQ3GCdAXI/C9SgsSUCuR+F6FP5PQKzKviuCf/+/6pWyDHGERkDn+6nx0i0vQCL99nXgVEhAFD/G3LU8SUAsvMtFfLchwKp+pfPhWd0/kX77OnDmTUDvj/eqlakYQNBE2PD0kklAhetRuB69SUAc6+I2GkhJQLIubqMBZENAvw6cM6IcR0BkzF1LyM9IQCL99nXg3EZAv30dOGc8REA9m1Wfq404QH6MuWsJ4UFA9ihcj8LtQUAAkX77OrhFQJOpglFJLUhAARjPoKF/+r/GbTSAt9BGQMUgsHJocURAtoR80LMJQkDc14FzRtRFQHQkl/+QfkFASgwCK4f2KkCPwvUoXE8yQKTfvg6ck0dAA3gLJCieREC5/If0289BQGrecYqOXEhANxrAWyDZSEBTliGOdZlJQHBfB84ZSUZA9+Rhoda0KECitDf4wmRBQEoMAiuHFkNA6bevA+cMSUAB3gIJitdFQEHxY8xdmz9AbcX+snv6SUCWQ4ts51tBQJjdk4eFQkRAZF3cRgMQS0BVwaikTlhIQD/G3LWE/EtA6bevA+dESED/If32dTBKQD0K16NwfUJA6bevA+e0TUDx9EpZhtBFQDm0yHa+zzZAMLsnDwvdQUCOBvAWSPhAQLaEfNCzmUZAFNBE2PBsQkCbVZ+rrcBGQNlfdk8eDkhAoyO5/IfMS0BhMlUwKlFLQFyPwvUoZEhAe4MvTKayRkCk374OnLtGQME5I0p7u0dA6WUUyy3VRkA=",
          "dtype": "f8"
         },
         "legendgroup": "",
         "lon": {
          "bdata": "Bp57D5c8H0D76NSVz7IjQAzlRLsKaQ/AS+oENBEmO0APtAJDVrcOwNPZyeAouQlAkDF3LSH/QUA89x4uOQ4TQAkbnl4p6zFAbxKDwMrxN0CwcmiR7cw+QHFa8KKvoABA30+Nl27yMUCQMXctIU80QOauJeSDvkFAZFjFG5lHFEAipkQSvcwfwK9fsBu2TSJA3bWEfNCTJkBFnE6y1eXmv21Wfa62wjBAqFfKMsSxMEA5fxMKEfARQPXb14FzNjFAUPwYc9dCM0BfKcsQx7ofwF2nkZbKGyJA8kHPZtVnP0AZOQt72mEEQPxSP28qkhxA001iEFg5K8AHfH4YIVwewKW9wRcmEwNAHVpkO99PKUA4FakwttARQNAPI4RHexpAkxgEVg6NJUDMf0i/fX0xwEtZhjjWzUlA+8vuycMSMcBT6LzGLhEbQOzAOSNK+0VAptB5jV2CIkCPwvUoXH9AQEdy+Q/phztAXwfOGVF6KEBrmnecouMuQMDPuHAgJCFAhlrTvOM0JECF61G4HqUhQJhp+1dWWg5AUyKJXkZRFUDImLuWkG8YQJBJRs7CXiNAJ9pVSPn5I0A17zhFR7I9QPkP6bevcz5Axty1hHzAPEB56SYxCJRDQCPb+X5qlEVAMLsnDwvlPkAldQKaCJs2wMHKoUW2Iz5A5/up8dKVQ0DXEvJBz0ZAQMsQx7q4PTVAFK5H4XoUM0Cfq63YX3YqQKWD9X8O0yJAMzMzMzNDPkBRFOgTeRL0Pxr7ko0HW8i/N/xuumWH3b+ny2Ji87EIQKG+ZU6XRSLAmEwVjErqLEAa+ie4WNEYQKWD9X8OUxRAHF97ZkmADMBuNIC3QNpDQBiV1AlogiVAFK5H4Xr0LECmuKrsu+IUQG3F/rJ7kidAx0s3iUHgKkD3x3vVynQhQIZa07zjlCxAGw3gLZDgJEAFwHgGDd0cQH1cGyrGOQjAnL8JhQh4AUDG3LWEfPAvwC/6CtKMxfm/l3MpripbIcDumLoru+Djv3L+JhQi4AJA6pWyDHEcMkAvqG+Z0+UGQPYoXI/CFTpApg9dUN8y+L/xS/28qcj+vzvfT42XLipAhetRuB6FLEBFR3L5D8kkQIqw4emVEiDA5KCEmba/EUBvEoPAymElQLivA+eM+DZAbHh6pSybRkBSCrq9pHEiQFvTvOMUtUJA3nahuU6DHkDRItv5fgorQMUbmUf+wCFA2ht8YTLVOEBuF5rrNNL1P8uEX+rnzRVAJh5QNuWqF8DUfQBSmzggQH4AUps4mR5Aak3zjlN0JEDA7J48LLQoQP2H9NvXkTBAQj7o2ayiQkBhMlUwKkk5QE5iEFg5LEZA9P3UeOnGJUDByqFFtm9SwH7ja88sGSFAg2kYPiJmI0A=",
          "dtype": "f8"
         },
         "marker": {
          "color": "blue",
          "size": {
           "bdata": "AAAAAAAAAEAAAAAAAADwPwAAAAAAaJlAAAAAAAAAAEAAAAAAAABZQAAAAAAAiKhAAAAAAAAAEEAAAAAAAJCJQAAAAAAAACBAAAAAAAAAMUAAAAAAAABIQAAAAAAAiJZAAAAAAAAAAEAAAAAAAOB+QAAAAAAA8IlAAAAAAAAAGEAAAAAAAKCQQAAAAAAAADBAAAAAAADQikAAAAAAAHCHQAAAAAAAAABAAAAAAAAAbkAAAAAAAFylQAAAAAAAQGVAAAAAAACAdUAAAAAAAAAUQAAAAAAAADpAAAAAAAA0kUAAAAAAALybQAAAAAAAADtAAAAAAAAwdkAAAAAAAASlQAAAAAAAgGhAAAAAAAAAEEAAAAAAAAAoQAAAAAAAYHhAAAAAAICFy0AAAAAAAGiIQAAAAAAAAABAAAAAAACwg0AAAAAAANCZQAAAAAAAAEFAAAAAAAAAJkAAAAAAAAAAQAAAAAAAABBAAAAAAADGo0AAAAAAAAAAQAAAAAAAZKVAAAAAAAAAPkAAAAAAAAAQQAAAAAAAAABAAAAAAAAAAEAAAAAAAEihQAAAAAAAAEVAAAAAAADwhEAAAAAAAAA0QAAAAAAAACJAAAAAAAB0pkAAAAAAAMihQAAAAAAAAABAAAAAAAAAAEAAAAAAAADwPwAAAAAAABBAAAAAAAAAAEAAAAAAAAAAQAAAAAAAAFFAAAAAAAAA8D8AAAAAAAAIQAAAAAAAAABAAAAAAADAYUAAAAAAAAAAQAAAAAAA8IdAAAAAAAAQkkAAAAAAAABOQAAAAAAAKIRAAAAAAACAa0AAAAAAAAAQQAAAAAAAPrJAAAAAAAAQkkAAAAAAAHiYQAAAAACADsNAAAAAAACAUkAAAAAAACS2QAAAAAAASJdAAAAAAAAAAEAAAAAAAOynQAAAAAAAADRAAAAAAABonEAAAAAAAFuxQAAAAAAAwH1AAAAAAACghEAAAAAAADCCQAAAAAAAmJBAAAAAAABAYUAAAAAAAFCNQAAAAAAARspAAAAAAACAZkAAAAAAAABCQAAAAAAAAABAAAAAAABYi0AAAAAAAOByQAAAAAAAAE9AAAAAAADMmEAAAAAAAAAQQAAAAAAAAABAAAAAAAAALEAAAAAAAHiTQAAAAAAAAABAAAAAAAAAAEAAAAAAAADwPwAAAAAAAGBAAAAAAADIkUAAAAAAAJCEQAAAAAAAwFVAAAAAAAAA8D8AAAAAAJCaQAAAAAAAAABAAAAAAAAANkAAAAAAAPSUQAAAAAAAAChAAAAAABC/8EAAAAAAAMCKQAAAAAAAeJBAAAAAAAAAXkAAAAAAAAAkQAAAAAAAABBAAAAAAAAAS0AAAAAAAEB+QAAAAAAAQIdAAAAAAAAA8D8=",
           "dtype": "f8"
          },
          "sizemode": "area",
          "sizeref": 171.4825
         },
         "mode": "markers",
         "name": "",
         "showlegend": false,
         "subplot": "map",
         "type": "scattermap"
        }
       ],
       "layout": {
        "height": 900,
        "legend": {
         "itemsizing": "constant",
         "tracegroupgap": 0
        },
        "map": {
         "center": {
          "lat": 38.358211392307695,
          "lon": 11.419717030769231
         },
         "domain": {
          "x": [
           0,
           1
          ],
          "y": [
           0,
           1
          ]
         },
         "zoom": 2
        },
        "mapbox": {
         "center": {
          "lat": 38.358211392307695,
          "lon": 11.419717030769231
         },
         "style": "open-street-map",
         "zoom": 2
        },
        "margin": {
         "b": 0,
         "l": 0,
         "r": 0,
         "t": 0
        },
        "template": {
         "data": {
          "bar": [
           {
            "error_x": {
             "color": "#2a3f5f"
            },
            "error_y": {
             "color": "#2a3f5f"
            },
            "marker": {
             "line": {
              "color": "#E5ECF6",
              "width": 0.5
             },
             "pattern": {
              "fillmode": "overlay",
              "size": 10,
              "solidity": 0.2
             }
            },
            "type": "bar"
           }
          ],
          "barpolar": [
           {
            "marker": {
             "line": {
              "color": "#E5ECF6",
              "width": 0.5
             },
             "pattern": {
              "fillmode": "overlay",
              "size": 10,
              "solidity": 0.2
             }
            },
            "type": "barpolar"
           }
          ],
          "carpet": [
           {
            "aaxis": {
             "endlinecolor": "#2a3f5f",
             "gridcolor": "white",
             "linecolor": "white",
             "minorgridcolor": "white",
             "startlinecolor": "#2a3f5f"
            },
            "baxis": {
             "endlinecolor": "#2a3f5f",
             "gridcolor": "white",
             "linecolor": "white",
             "minorgridcolor": "white",
             "startlinecolor": "#2a3f5f"
            },
            "type": "carpet"
           }
          ],
          "choropleth": [
           {
            "colorbar": {
             "outlinewidth": 0,
             "ticks": ""
            },
            "type": "choropleth"
           }
          ],
          "contour": [
           {
            "colorbar": {
             "outlinewidth": 0,
             "ticks": ""
            },
            "colorscale": [
             [
              0,
              "#0d0887"
             ],
             [
              0.1111111111111111,
              "#46039f"
             ],
             [
              0.2222222222222222,
              "#7201a8"
             ],
             [
              0.3333333333333333,
              "#9c179e"
             ],
             [
              0.4444444444444444,
              "#bd3786"
             ],
             [
              0.5555555555555556,
              "#d8576b"
             ],
             [
              0.6666666666666666,
              "#ed7953"
             ],
             [
              0.7777777777777778,
              "#fb9f3a"
             ],
             [
              0.8888888888888888,
              "#fdca26"
             ],
             [
              1,
              "#f0f921"
             ]
            ],
            "type": "contour"
           }
          ],
          "contourcarpet": [
           {
            "colorbar": {
             "outlinewidth": 0,
             "ticks": ""
            },
            "type": "contourcarpet"
           }
          ],
          "heatmap": [
           {
            "colorbar": {
             "outlinewidth": 0,
             "ticks": ""
            },
            "colorscale": [
             [
              0,
              "#0d0887"
             ],
             [
              0.1111111111111111,
              "#46039f"
             ],
             [
              0.2222222222222222,
              "#7201a8"
             ],
             [
              0.3333333333333333,
              "#9c179e"
             ],
             [
              0.4444444444444444,
              "#bd3786"
             ],
             [
              0.5555555555555556,
              "#d8576b"
             ],
             [
              0.6666666666666666,
              "#ed7953"
             ],
             [
              0.7777777777777778,
              "#fb9f3a"
             ],
             [
              0.8888888888888888,
              "#fdca26"
             ],
             [
              1,
              "#f0f921"
             ]
            ],
            "type": "heatmap"
           }
          ],
          "histogram": [
           {
            "marker": {
             "pattern": {
              "fillmode": "overlay",
              "size": 10,
              "solidity": 0.2
             }
            },
            "type": "histogram"
           }
          ],
          "histogram2d": [
           {
            "colorbar": {
             "outlinewidth": 0,
             "ticks": ""
            },
            "colorscale": [
             [
              0,
              "#0d0887"
             ],
             [
              0.1111111111111111,
              "#46039f"
             ],
             [
              0.2222222222222222,
              "#7201a8"
             ],
             [
              0.3333333333333333,
              "#9c179e"
             ],
             [
              0.4444444444444444,
              "#bd3786"
             ],
             [
              0.5555555555555556,
              "#d8576b"
             ],
             [
              0.6666666666666666,
              "#ed7953"
             ],
             [
              0.7777777777777778,
              "#fb9f3a"
             ],
             [
              0.8888888888888888,
              "#fdca26"
             ],
             [
              1,
              "#f0f921"
             ]
            ],
            "type": "histogram2d"
           }
          ],
          "histogram2dcontour": [
           {
            "colorbar": {
             "outlinewidth": 0,
             "ticks": ""
            },
            "colorscale": [
             [
              0,
              "#0d0887"
             ],
             [
              0.1111111111111111,
              "#46039f"
             ],
             [
              0.2222222222222222,
              "#7201a8"
             ],
             [
              0.3333333333333333,
              "#9c179e"
             ],
             [
              0.4444444444444444,
              "#bd3786"
             ],
             [
              0.5555555555555556,
              "#d8576b"
             ],
             [
              0.6666666666666666,
              "#ed7953"
             ],
             [
              0.7777777777777778,
              "#fb9f3a"
             ],
             [
              0.8888888888888888,
              "#fdca26"
             ],
             [
              1,
              "#f0f921"
             ]
            ],
            "type": "histogram2dcontour"
           }
          ],
          "mesh3d": [
           {
            "colorbar": {
             "outlinewidth": 0,
             "ticks": ""
            },
            "type": "mesh3d"
           }
          ],
          "parcoords": [
           {
            "line": {
             "colorbar": {
              "outlinewidth": 0,
              "ticks": ""
             }
            },
            "type": "parcoords"
           }
          ],
          "pie": [
           {
            "automargin": true,
            "type": "pie"
           }
          ],
          "scatter": [
           {
            "fillpattern": {
             "fillmode": "overlay",
             "size": 10,
             "solidity": 0.2
            },
            "type": "scatter"
           }
          ],
          "scatter3d": [
           {
            "line": {
             "colorbar": {
              "outlinewidth": 0,
              "ticks": ""
             }
            },
            "marker": {
             "colorbar": {
              "outlinewidth": 0,
              "ticks": ""
             }
            },
            "type": "scatter3d"
           }
          ],
          "scattercarpet": [
           {
            "marker": {
             "colorbar": {
              "outlinewidth": 0,
              "ticks": ""
             }
            },
            "type": "scattercarpet"
           }
          ],
          "scattergeo": [
           {
            "marker": {
             "colorbar": {
              "outlinewidth": 0,
              "ticks": ""
             }
            },
            "type": "scattergeo"
           }
          ],
          "scattergl": [
           {
            "marker": {
             "colorbar": {
              "outlinewidth": 0,
              "ticks": ""
             }
            },
            "type": "scattergl"
           }
          ],
          "scattermap": [
           {
            "marker": {
             "colorbar": {
              "outlinewidth": 0,
              "ticks": ""
             }
            },
            "type": "scattermap"
           }
          ],
          "scattermapbox": [
           {
            "marker": {
             "colorbar": {
              "outlinewidth": 0,
              "ticks": ""
             }
            },
            "type": "scattermapbox"
           }
          ],
          "scatterpolar": [
           {
            "marker": {
             "colorbar": {
              "outlinewidth": 0,
              "ticks": ""
             }
            },
            "type": "scatterpolar"
           }
          ],
          "scatterpolargl": [
           {
            "marker": {
             "colorbar": {
              "outlinewidth": 0,
              "ticks": ""
             }
            },
            "type": "scatterpolargl"
           }
          ],
          "scatterternary": [
           {
            "marker": {
             "colorbar": {
              "outlinewidth": 0,
              "ticks": ""
             }
            },
            "type": "scatterternary"
           }
          ],
          "surface": [
           {
            "colorbar": {
             "outlinewidth": 0,
             "ticks": ""
            },
            "colorscale": [
             [
              0,
              "#0d0887"
             ],
             [
              0.1111111111111111,
              "#46039f"
             ],
             [
              0.2222222222222222,
              "#7201a8"
             ],
             [
              0.3333333333333333,
              "#9c179e"
             ],
             [
              0.4444444444444444,
              "#bd3786"
             ],
             [
              0.5555555555555556,
              "#d8576b"
             ],
             [
              0.6666666666666666,
              "#ed7953"
             ],
             [
              0.7777777777777778,
              "#fb9f3a"
             ],
             [
              0.8888888888888888,
              "#fdca26"
             ],
             [
              1,
              "#f0f921"
             ]
            ],
            "type": "surface"
           }
          ],
          "table": [
           {
            "cells": {
             "fill": {
              "color": "#EBF0F8"
             },
             "line": {
              "color": "white"
             }
            },
            "header": {
             "fill": {
              "color": "#C8D4E3"
             },
             "line": {
              "color": "white"
             }
            },
            "type": "table"
           }
          ]
         },
         "layout": {
          "annotationdefaults": {
           "arrowcolor": "#2a3f5f",
           "arrowhead": 0,
           "arrowwidth": 1
          },
          "autotypenumbers": "strict",
          "coloraxis": {
           "colorbar": {
            "outlinewidth": 0,
            "ticks": ""
           }
          },
          "colorscale": {
           "diverging": [
            [
             0,
             "#8e0152"
            ],
            [
             0.1,
             "#c51b7d"
            ],
            [
             0.2,
             "#de77ae"
            ],
            [
             0.3,
             "#f1b6da"
            ],
            [
             0.4,
             "#fde0ef"
            ],
            [
             0.5,
             "#f7f7f7"
            ],
            [
             0.6,
             "#e6f5d0"
            ],
            [
             0.7,
             "#b8e186"
            ],
            [
             0.8,
             "#7fbc41"
            ],
            [
             0.9,
             "#4d9221"
            ],
            [
             1,
             "#276419"
            ]
           ],
           "sequential": [
            [
             0,
             "#0d0887"
            ],
            [
             0.1111111111111111,
             "#46039f"
            ],
            [
             0.2222222222222222,
             "#7201a8"
            ],
            [
             0.3333333333333333,
             "#9c179e"
            ],
            [
             0.4444444444444444,
             "#bd3786"
            ],
            [
             0.5555555555555556,
             "#d8576b"
            ],
            [
             0.6666666666666666,
             "#ed7953"
            ],
            [
             0.7777777777777778,
             "#fb9f3a"
            ],
            [
             0.8888888888888888,
             "#fdca26"
            ],
            [
             1,
             "#f0f921"
            ]
           ],
           "sequentialminus": [
            [
             0,
             "#0d0887"
            ],
            [
             0.1111111111111111,
             "#46039f"
            ],
            [
             0.2222222222222222,
             "#7201a8"
            ],
            [
             0.3333333333333333,
             "#9c179e"
            ],
            [
             0.4444444444444444,
             "#bd3786"
            ],
            [
             0.5555555555555556,
             "#d8576b"
            ],
            [
             0.6666666666666666,
             "#ed7953"
            ],
            [
             0.7777777777777778,
             "#fb9f3a"
            ],
            [
             0.8888888888888888,
             "#fdca26"
            ],
            [
             1,
             "#f0f921"
            ]
           ]
          },
          "colorway": [
           "#636efa",
           "#EF553B",
           "#00cc96",
           "#ab63fa",
           "#FFA15A",
           "#19d3f3",
           "#FF6692",
           "#B6E880",
           "#FF97FF",
           "#FECB52"
          ],
          "font": {
           "color": "#2a3f5f"
          },
          "geo": {
           "bgcolor": "white",
           "lakecolor": "white",
           "landcolor": "#E5ECF6",
           "showlakes": true,
           "showland": true,
           "subunitcolor": "white"
          },
          "hoverlabel": {
           "align": "left"
          },
          "hovermode": "closest",
          "mapbox": {
           "style": "light"
          },
          "paper_bgcolor": "white",
          "plot_bgcolor": "#E5ECF6",
          "polar": {
           "angularaxis": {
            "gridcolor": "white",
            "linecolor": "white",
            "ticks": ""
           },
           "bgcolor": "#E5ECF6",
           "radialaxis": {
            "gridcolor": "white",
            "linecolor": "white",
            "ticks": ""
           }
          },
          "scene": {
           "xaxis": {
            "backgroundcolor": "#E5ECF6",
            "gridcolor": "white",
            "gridwidth": 2,
            "linecolor": "white",
            "showbackground": true,
            "ticks": "",
            "zerolinecolor": "white"
           },
           "yaxis": {
            "backgroundcolor": "#E5ECF6",
            "gridcolor": "white",
            "gridwidth": 2,
            "linecolor": "white",
            "showbackground": true,
            "ticks": "",
            "zerolinecolor": "white"
           },
           "zaxis": {
            "backgroundcolor": "#E5ECF6",
            "gridcolor": "white",
            "gridwidth": 2,
            "linecolor": "white",
            "showbackground": true,
            "ticks": "",
            "zerolinecolor": "white"
           }
          },
          "shapedefaults": {
           "line": {
            "color": "#2a3f5f"
           }
          },
          "ternary": {
           "aaxis": {
            "gridcolor": "white",
            "linecolor": "white",
            "ticks": ""
           },
           "baxis": {
            "gridcolor": "white",
            "linecolor": "white",
            "ticks": ""
           },
           "bgcolor": "#E5ECF6",
           "caxis": {
            "gridcolor": "white",
            "linecolor": "white",
            "ticks": ""
           }
          },
          "title": {
           "x": 0.05
          },
          "xaxis": {
           "automargin": true,
           "gridcolor": "white",
           "linecolor": "white",
           "ticks": "",
           "title": {
            "standoff": 15
           },
           "zerolinecolor": "white",
           "zerolinewidth": 2
          },
          "yaxis": {
           "automargin": true,
           "gridcolor": "white",
           "linecolor": "white",
           "ticks": "",
           "title": {
            "standoff": 15
           },
           "zerolinecolor": "white",
           "zerolinewidth": 2
          }
         }
        },
        "width": 1100
       }
      }
     },
     "metadata": {},
     "output_type": "display_data"
    }
   ],
   "source": [
    "# import data from csv file\n",
    "df = pd.read_csv(\"flight_data_with_dist_and_dur.csv\")\n",
    "\n",
    "# count how often a departure airport is used and how often a destination airport is used\n",
    "df1 = df.groupby([\"DEPSTN\"])[\"DEPSTN\"].count()\n",
    "df2 = df.groupby([\"ARRSTN\"])[\"ARRSTN\"].count()\n",
    "\n",
    "# bring both datasets together and prep for merge with datafram containing lat and lon data\n",
    "df3 = pd.concat([df1, df2], axis=1)\n",
    "df3 = df3.fillna(0)\n",
    "df3[\"sum\"] = df3[\"DEPSTN\"] + df3[\"ARRSTN\"]\n",
    "df3 = df3.drop([\"DEPSTN\", \"ARRSTN\"], axis=1)\n",
    "df3[\"ARRSTN\"] = df3.index\n",
    "\n",
    "# import iata data from csv file (source: https://github.com/ip2location/ip2location-iata-icao)\n",
    "iata_data = pd.read_csv(\"iata-icao.csv\")\n",
    "iata_data = iata_data.drop([\"country_code\", \"region_name\", \"icao\", \"airport\"], axis=1)\n",
    "\n",
    "# create dataframe to merge data\n",
    "iata_data_arr = iata_data.rename(columns={\"iata\": \"ARRSTN\", \"latitude\": \"arr_lat\", \"longitude\": \"arr_lon\"})\n",
    "\n",
    "# merge iata data with airport counts dataframe\n",
    "df3 = pd.merge(df3, iata_data_arr, on=\"ARRSTN\", how=\"left\")\n",
    "\n",
    "# make plot with dot size dependent on frequency of use\n",
    "fig = px.scatter_map(df3, \n",
    "                        lat=\"arr_lat\", \n",
    "                        lon=\"arr_lon\", \n",
    "                        #color=\"sum\",\n",
    "                        size=\"sum\",\n",
    "                        zoom=2, \n",
    "                        height=900,\n",
    "                        width=1100)\n",
    "\n",
    "fig.update_traces(marker=dict(color=\"blue\"),\n",
    "                  selector=dict(mode='markers'))\n",
    "\n",
    "fig.update_layout(mapbox_style=\"open-street-map\")\n",
    "fig.update_layout(margin={\"r\":0,\"t\":0,\"l\":0,\"b\":0})\n",
    "fig.show()\n"
   ]
  },
  {
   "cell_type": "code",
   "execution_count": 3,
   "id": "1d66d766",
   "metadata": {},
   "outputs": [
    {
     "data": {
      "application/vnd.plotly.v1+json": {
       "config": {
        "plotlyServerURL": "https://plot.ly"
       },
       "data": [
        {
         "hovertemplate": "arr_lat=%{lat}<br>arr_lon=%{lon}<extra></extra>",
         "lat": {
          "bdata": "t2J/2T1pQkDOiNLe4ItMQHkB9tGpCxVAvsEXJlMlQ0CRD3o2q5ZBQJzEILByWEJA8BZIUPy4P0DWxW00gCdKQJYhjnVx001AufyH9Nv3QkAldQKaCHNCQCDSb18HpkRAwOyePCxUREDwhclUwWhGQKmkTkAT6UBAQmDl0CJbQkD+1HjpJhEpQEmdgCbC3ktAoyO5/IdERkBuowG8BWpGQAu1pnnHkURAQfFjzF2TSEClTkATYXNJQL3jFB3JFUhAEOm3rwO3R0DD0ytlGQpDQNV46SYxoENA5WGh1jQfPkC3Yn/ZPYFIQJ/Nqs/VbklAZcdGIF4nI0DXo3A9Cq9AQK+ZfLPNbRlAZRniWBfPS0BfKcsQxzpJQBfZzvdTI0JAAAAAAADwQEDQs1n1uXotQKCJsOHpRTlA16NwPQpXLUCTGARWDqVJQMrDQq1pHkJAo5I6AU20P0AOT6+UZRBEQOY/pN++LifAkX77OnDmREBeukkMAosRwHh6pSxDBElAY+5aQj7wQEC8dJMYBDZBQGEyVTAqMUBA9dvXgXOuRkC8lpAPeh5HQMIXJlMFO0pA/7J78rDQSkAJih9j7uo+QJYhjnVxM0lAXkvIBz2jRECSXP5D+q01QJwzorQ3GCdAXI/C9SgsSUCuR+F6FP5PQKzKviuCf/+/6pWyDHGERkDn+6nx0i0vQCL99nXgVEhAFD/G3LU8SUAsvMtFfLchwKp+pfPhWd0/kX77OnDmTUDvj/eqlakYQNBE2PD0kklAhetRuB69SUAc6+I2GkhJQLIubqMBZENAvw6cM6IcR0BkzF1LyM9IQCL99nXg3EZAv30dOGc8REA9m1Wfq404QH6MuWsJ4UFA9ihcj8LtQUAAkX77OrhFQJOpglFJLUhAARjPoKF/+r/GbTSAt9BGQMUgsHJocURAtoR80LMJQkDc14FzRtRFQHQkl/+QfkFASgwCK4f2KkCPwvUoXE8yQKTfvg6ck0dAA3gLJCieREC5/If0289BQGrecYqOXEhANxrAWyDZSEBTliGOdZlJQHBfB84ZSUZA9+Rhoda0KECitDf4wmRBQEoMAiuHFkNA6bevA+cMSUAB3gIJitdFQEHxY8xdmz9AbcX+snv6SUCWQ4ts51tBQJjdk4eFQkRAZF3cRgMQS0BVwaikTlhIQD/G3LWE/EtA6bevA+dESED/If32dTBKQD0K16NwfUJA6bevA+e0TUDx9EpZhtBFQDm0yHa+zzZAMLsnDwvdQUCOBvAWSPhAQLaEfNCzmUZAFNBE2PBsQkCbVZ+rrcBGQNlfdk8eDkhAoyO5/IfMS0BhMlUwKlFLQFyPwvUoZEhAe4MvTKayRkCk374OnLtGQME5I0p7u0dA6WUUyy3VRkA=",
          "dtype": "f8"
         },
         "legendgroup": "",
         "lon": {
          "bdata": "Bp57D5c8H0D76NSVz7IjQAzlRLsKaQ/AS+oENBEmO0APtAJDVrcOwNPZyeAouQlAkDF3LSH/QUA89x4uOQ4TQAkbnl4p6zFAbxKDwMrxN0CwcmiR7cw+QHFa8KKvoABA30+Nl27yMUCQMXctIU80QOauJeSDvkFAZFjFG5lHFEAipkQSvcwfwK9fsBu2TSJA3bWEfNCTJkBFnE6y1eXmv21Wfa62wjBAqFfKMsSxMEA5fxMKEfARQPXb14FzNjFAUPwYc9dCM0BfKcsQx7ofwF2nkZbKGyJA8kHPZtVnP0AZOQt72mEEQPxSP28qkhxA001iEFg5K8AHfH4YIVwewKW9wRcmEwNAHVpkO99PKUA4FakwttARQNAPI4RHexpAkxgEVg6NJUDMf0i/fX0xwEtZhjjWzUlA+8vuycMSMcBT6LzGLhEbQOzAOSNK+0VAptB5jV2CIkCPwvUoXH9AQEdy+Q/phztAXwfOGVF6KEBrmnecouMuQMDPuHAgJCFAhlrTvOM0JECF61G4HqUhQJhp+1dWWg5AUyKJXkZRFUDImLuWkG8YQJBJRs7CXiNAJ9pVSPn5I0A17zhFR7I9QPkP6bevcz5Axty1hHzAPEB56SYxCJRDQCPb+X5qlEVAMLsnDwvlPkAldQKaCJs2wMHKoUW2Iz5A5/up8dKVQ0DXEvJBz0ZAQMsQx7q4PTVAFK5H4XoUM0Cfq63YX3YqQKWD9X8O0yJAMzMzMzNDPkBRFOgTeRL0Pxr7ko0HW8i/N/xuumWH3b+ny2Ji87EIQKG+ZU6XRSLAmEwVjErqLEAa+ie4WNEYQKWD9X8OUxRAHF97ZkmADMBuNIC3QNpDQBiV1AlogiVAFK5H4Xr0LECmuKrsu+IUQG3F/rJ7kidAx0s3iUHgKkD3x3vVynQhQIZa07zjlCxAGw3gLZDgJEAFwHgGDd0cQH1cGyrGOQjAnL8JhQh4AUDG3LWEfPAvwC/6CtKMxfm/l3MpripbIcDumLoru+Djv3L+JhQi4AJA6pWyDHEcMkAvqG+Z0+UGQPYoXI/CFTpApg9dUN8y+L/xS/28qcj+vzvfT42XLipAhetRuB6FLEBFR3L5D8kkQIqw4emVEiDA5KCEmba/EUBvEoPAymElQLivA+eM+DZAbHh6pSybRkBSCrq9pHEiQFvTvOMUtUJA3nahuU6DHkDRItv5fgorQMUbmUf+wCFA2ht8YTLVOEBuF5rrNNL1P8uEX+rnzRVAJh5QNuWqF8DUfQBSmzggQH4AUps4mR5Aak3zjlN0JEDA7J48LLQoQP2H9NvXkTBAQj7o2ayiQkBhMlUwKkk5QE5iEFg5LEZA9P3UeOnGJUDByqFFtm9SwH7ja88sGSFAg2kYPiJmI0A=",
          "dtype": "f8"
         },
         "marker": {
          "color": "blue",
          "size": 9
         },
         "mode": "markers",
         "name": "",
         "showlegend": false,
         "subplot": "map",
         "type": "scattermap"
        }
       ],
       "layout": {
        "height": 900,
        "legend": {
         "tracegroupgap": 0
        },
        "map": {
         "center": {
          "lat": 38.358211392307695,
          "lon": 11.419717030769231
         },
         "domain": {
          "x": [
           0,
           1
          ],
          "y": [
           0,
           1
          ]
         },
         "zoom": 2
        },
        "mapbox": {
         "center": {
          "lat": 38.358211392307695,
          "lon": 11.419717030769231
         },
         "style": "open-street-map",
         "zoom": 2
        },
        "margin": {
         "b": 0,
         "l": 0,
         "r": 0,
         "t": 0
        },
        "template": {
         "data": {
          "bar": [
           {
            "error_x": {
             "color": "#2a3f5f"
            },
            "error_y": {
             "color": "#2a3f5f"
            },
            "marker": {
             "line": {
              "color": "#E5ECF6",
              "width": 0.5
             },
             "pattern": {
              "fillmode": "overlay",
              "size": 10,
              "solidity": 0.2
             }
            },
            "type": "bar"
           }
          ],
          "barpolar": [
           {
            "marker": {
             "line": {
              "color": "#E5ECF6",
              "width": 0.5
             },
             "pattern": {
              "fillmode": "overlay",
              "size": 10,
              "solidity": 0.2
             }
            },
            "type": "barpolar"
           }
          ],
          "carpet": [
           {
            "aaxis": {
             "endlinecolor": "#2a3f5f",
             "gridcolor": "white",
             "linecolor": "white",
             "minorgridcolor": "white",
             "startlinecolor": "#2a3f5f"
            },
            "baxis": {
             "endlinecolor": "#2a3f5f",
             "gridcolor": "white",
             "linecolor": "white",
             "minorgridcolor": "white",
             "startlinecolor": "#2a3f5f"
            },
            "type": "carpet"
           }
          ],
          "choropleth": [
           {
            "colorbar": {
             "outlinewidth": 0,
             "ticks": ""
            },
            "type": "choropleth"
           }
          ],
          "contour": [
           {
            "colorbar": {
             "outlinewidth": 0,
             "ticks": ""
            },
            "colorscale": [
             [
              0,
              "#0d0887"
             ],
             [
              0.1111111111111111,
              "#46039f"
             ],
             [
              0.2222222222222222,
              "#7201a8"
             ],
             [
              0.3333333333333333,
              "#9c179e"
             ],
             [
              0.4444444444444444,
              "#bd3786"
             ],
             [
              0.5555555555555556,
              "#d8576b"
             ],
             [
              0.6666666666666666,
              "#ed7953"
             ],
             [
              0.7777777777777778,
              "#fb9f3a"
             ],
             [
              0.8888888888888888,
              "#fdca26"
             ],
             [
              1,
              "#f0f921"
             ]
            ],
            "type": "contour"
           }
          ],
          "contourcarpet": [
           {
            "colorbar": {
             "outlinewidth": 0,
             "ticks": ""
            },
            "type": "contourcarpet"
           }
          ],
          "heatmap": [
           {
            "colorbar": {
             "outlinewidth": 0,
             "ticks": ""
            },
            "colorscale": [
             [
              0,
              "#0d0887"
             ],
             [
              0.1111111111111111,
              "#46039f"
             ],
             [
              0.2222222222222222,
              "#7201a8"
             ],
             [
              0.3333333333333333,
              "#9c179e"
             ],
             [
              0.4444444444444444,
              "#bd3786"
             ],
             [
              0.5555555555555556,
              "#d8576b"
             ],
             [
              0.6666666666666666,
              "#ed7953"
             ],
             [
              0.7777777777777778,
              "#fb9f3a"
             ],
             [
              0.8888888888888888,
              "#fdca26"
             ],
             [
              1,
              "#f0f921"
             ]
            ],
            "type": "heatmap"
           }
          ],
          "histogram": [
           {
            "marker": {
             "pattern": {
              "fillmode": "overlay",
              "size": 10,
              "solidity": 0.2
             }
            },
            "type": "histogram"
           }
          ],
          "histogram2d": [
           {
            "colorbar": {
             "outlinewidth": 0,
             "ticks": ""
            },
            "colorscale": [
             [
              0,
              "#0d0887"
             ],
             [
              0.1111111111111111,
              "#46039f"
             ],
             [
              0.2222222222222222,
              "#7201a8"
             ],
             [
              0.3333333333333333,
              "#9c179e"
             ],
             [
              0.4444444444444444,
              "#bd3786"
             ],
             [
              0.5555555555555556,
              "#d8576b"
             ],
             [
              0.6666666666666666,
              "#ed7953"
             ],
             [
              0.7777777777777778,
              "#fb9f3a"
             ],
             [
              0.8888888888888888,
              "#fdca26"
             ],
             [
              1,
              "#f0f921"
             ]
            ],
            "type": "histogram2d"
           }
          ],
          "histogram2dcontour": [
           {
            "colorbar": {
             "outlinewidth": 0,
             "ticks": ""
            },
            "colorscale": [
             [
              0,
              "#0d0887"
             ],
             [
              0.1111111111111111,
              "#46039f"
             ],
             [
              0.2222222222222222,
              "#7201a8"
             ],
             [
              0.3333333333333333,
              "#9c179e"
             ],
             [
              0.4444444444444444,
              "#bd3786"
             ],
             [
              0.5555555555555556,
              "#d8576b"
             ],
             [
              0.6666666666666666,
              "#ed7953"
             ],
             [
              0.7777777777777778,
              "#fb9f3a"
             ],
             [
              0.8888888888888888,
              "#fdca26"
             ],
             [
              1,
              "#f0f921"
             ]
            ],
            "type": "histogram2dcontour"
           }
          ],
          "mesh3d": [
           {
            "colorbar": {
             "outlinewidth": 0,
             "ticks": ""
            },
            "type": "mesh3d"
           }
          ],
          "parcoords": [
           {
            "line": {
             "colorbar": {
              "outlinewidth": 0,
              "ticks": ""
             }
            },
            "type": "parcoords"
           }
          ],
          "pie": [
           {
            "automargin": true,
            "type": "pie"
           }
          ],
          "scatter": [
           {
            "fillpattern": {
             "fillmode": "overlay",
             "size": 10,
             "solidity": 0.2
            },
            "type": "scatter"
           }
          ],
          "scatter3d": [
           {
            "line": {
             "colorbar": {
              "outlinewidth": 0,
              "ticks": ""
             }
            },
            "marker": {
             "colorbar": {
              "outlinewidth": 0,
              "ticks": ""
             }
            },
            "type": "scatter3d"
           }
          ],
          "scattercarpet": [
           {
            "marker": {
             "colorbar": {
              "outlinewidth": 0,
              "ticks": ""
             }
            },
            "type": "scattercarpet"
           }
          ],
          "scattergeo": [
           {
            "marker": {
             "colorbar": {
              "outlinewidth": 0,
              "ticks": ""
             }
            },
            "type": "scattergeo"
           }
          ],
          "scattergl": [
           {
            "marker": {
             "colorbar": {
              "outlinewidth": 0,
              "ticks": ""
             }
            },
            "type": "scattergl"
           }
          ],
          "scattermap": [
           {
            "marker": {
             "colorbar": {
              "outlinewidth": 0,
              "ticks": ""
             }
            },
            "type": "scattermap"
           }
          ],
          "scattermapbox": [
           {
            "marker": {
             "colorbar": {
              "outlinewidth": 0,
              "ticks": ""
             }
            },
            "type": "scattermapbox"
           }
          ],
          "scatterpolar": [
           {
            "marker": {
             "colorbar": {
              "outlinewidth": 0,
              "ticks": ""
             }
            },
            "type": "scatterpolar"
           }
          ],
          "scatterpolargl": [
           {
            "marker": {
             "colorbar": {
              "outlinewidth": 0,
              "ticks": ""
             }
            },
            "type": "scatterpolargl"
           }
          ],
          "scatterternary": [
           {
            "marker": {
             "colorbar": {
              "outlinewidth": 0,
              "ticks": ""
             }
            },
            "type": "scatterternary"
           }
          ],
          "surface": [
           {
            "colorbar": {
             "outlinewidth": 0,
             "ticks": ""
            },
            "colorscale": [
             [
              0,
              "#0d0887"
             ],
             [
              0.1111111111111111,
              "#46039f"
             ],
             [
              0.2222222222222222,
              "#7201a8"
             ],
             [
              0.3333333333333333,
              "#9c179e"
             ],
             [
              0.4444444444444444,
              "#bd3786"
             ],
             [
              0.5555555555555556,
              "#d8576b"
             ],
             [
              0.6666666666666666,
              "#ed7953"
             ],
             [
              0.7777777777777778,
              "#fb9f3a"
             ],
             [
              0.8888888888888888,
              "#fdca26"
             ],
             [
              1,
              "#f0f921"
             ]
            ],
            "type": "surface"
           }
          ],
          "table": [
           {
            "cells": {
             "fill": {
              "color": "#EBF0F8"
             },
             "line": {
              "color": "white"
             }
            },
            "header": {
             "fill": {
              "color": "#C8D4E3"
             },
             "line": {
              "color": "white"
             }
            },
            "type": "table"
           }
          ]
         },
         "layout": {
          "annotationdefaults": {
           "arrowcolor": "#2a3f5f",
           "arrowhead": 0,
           "arrowwidth": 1
          },
          "autotypenumbers": "strict",
          "coloraxis": {
           "colorbar": {
            "outlinewidth": 0,
            "ticks": ""
           }
          },
          "colorscale": {
           "diverging": [
            [
             0,
             "#8e0152"
            ],
            [
             0.1,
             "#c51b7d"
            ],
            [
             0.2,
             "#de77ae"
            ],
            [
             0.3,
             "#f1b6da"
            ],
            [
             0.4,
             "#fde0ef"
            ],
            [
             0.5,
             "#f7f7f7"
            ],
            [
             0.6,
             "#e6f5d0"
            ],
            [
             0.7,
             "#b8e186"
            ],
            [
             0.8,
             "#7fbc41"
            ],
            [
             0.9,
             "#4d9221"
            ],
            [
             1,
             "#276419"
            ]
           ],
           "sequential": [
            [
             0,
             "#0d0887"
            ],
            [
             0.1111111111111111,
             "#46039f"
            ],
            [
             0.2222222222222222,
             "#7201a8"
            ],
            [
             0.3333333333333333,
             "#9c179e"
            ],
            [
             0.4444444444444444,
             "#bd3786"
            ],
            [
             0.5555555555555556,
             "#d8576b"
            ],
            [
             0.6666666666666666,
             "#ed7953"
            ],
            [
             0.7777777777777778,
             "#fb9f3a"
            ],
            [
             0.8888888888888888,
             "#fdca26"
            ],
            [
             1,
             "#f0f921"
            ]
           ],
           "sequentialminus": [
            [
             0,
             "#0d0887"
            ],
            [
             0.1111111111111111,
             "#46039f"
            ],
            [
             0.2222222222222222,
             "#7201a8"
            ],
            [
             0.3333333333333333,
             "#9c179e"
            ],
            [
             0.4444444444444444,
             "#bd3786"
            ],
            [
             0.5555555555555556,
             "#d8576b"
            ],
            [
             0.6666666666666666,
             "#ed7953"
            ],
            [
             0.7777777777777778,
             "#fb9f3a"
            ],
            [
             0.8888888888888888,
             "#fdca26"
            ],
            [
             1,
             "#f0f921"
            ]
           ]
          },
          "colorway": [
           "#636efa",
           "#EF553B",
           "#00cc96",
           "#ab63fa",
           "#FFA15A",
           "#19d3f3",
           "#FF6692",
           "#B6E880",
           "#FF97FF",
           "#FECB52"
          ],
          "font": {
           "color": "#2a3f5f"
          },
          "geo": {
           "bgcolor": "white",
           "lakecolor": "white",
           "landcolor": "#E5ECF6",
           "showlakes": true,
           "showland": true,
           "subunitcolor": "white"
          },
          "hoverlabel": {
           "align": "left"
          },
          "hovermode": "closest",
          "mapbox": {
           "style": "light"
          },
          "paper_bgcolor": "white",
          "plot_bgcolor": "#E5ECF6",
          "polar": {
           "angularaxis": {
            "gridcolor": "white",
            "linecolor": "white",
            "ticks": ""
           },
           "bgcolor": "#E5ECF6",
           "radialaxis": {
            "gridcolor": "white",
            "linecolor": "white",
            "ticks": ""
           }
          },
          "scene": {
           "xaxis": {
            "backgroundcolor": "#E5ECF6",
            "gridcolor": "white",
            "gridwidth": 2,
            "linecolor": "white",
            "showbackground": true,
            "ticks": "",
            "zerolinecolor": "white"
           },
           "yaxis": {
            "backgroundcolor": "#E5ECF6",
            "gridcolor": "white",
            "gridwidth": 2,
            "linecolor": "white",
            "showbackground": true,
            "ticks": "",
            "zerolinecolor": "white"
           },
           "zaxis": {
            "backgroundcolor": "#E5ECF6",
            "gridcolor": "white",
            "gridwidth": 2,
            "linecolor": "white",
            "showbackground": true,
            "ticks": "",
            "zerolinecolor": "white"
           }
          },
          "shapedefaults": {
           "line": {
            "color": "#2a3f5f"
           }
          },
          "ternary": {
           "aaxis": {
            "gridcolor": "white",
            "linecolor": "white",
            "ticks": ""
           },
           "baxis": {
            "gridcolor": "white",
            "linecolor": "white",
            "ticks": ""
           },
           "bgcolor": "#E5ECF6",
           "caxis": {
            "gridcolor": "white",
            "linecolor": "white",
            "ticks": ""
           }
          },
          "title": {
           "x": 0.05
          },
          "xaxis": {
           "automargin": true,
           "gridcolor": "white",
           "linecolor": "white",
           "ticks": "",
           "title": {
            "standoff": 15
           },
           "zerolinecolor": "white",
           "zerolinewidth": 2
          },
          "yaxis": {
           "automargin": true,
           "gridcolor": "white",
           "linecolor": "white",
           "ticks": "",
           "title": {
            "standoff": 15
           },
           "zerolinecolor": "white",
           "zerolinewidth": 2
          }
         }
        },
        "width": 1100
       }
      }
     },
     "metadata": {},
     "output_type": "display_data"
    }
   ],
   "source": [
    "# make plot with used airports without any additional condition\n",
    "fig = px.scatter_map(df3, \n",
    "                        lat=\"arr_lat\", \n",
    "                        lon=\"arr_lon\", \n",
    "                        #color=\"sum\",\n",
    "                        #size=\"sum\",\n",
    "                        zoom=2, \n",
    "                        height=900,\n",
    "                        width=1100)\n",
    "\n",
    "fig.update_traces(marker=dict(color=\"blue\", size=9),\n",
    "                  selector=dict(mode='markers'))\n",
    "\n",
    "fig.update_layout(mapbox_style=\"open-street-map\")\n",
    "fig.update_layout(margin={\"r\":0,\"t\":0,\"l\":0,\"b\":0})\n",
    "fig.show()"
   ]
  }
 ],
 "metadata": {
  "kernelspec": {
   "display_name": ".venv",
   "language": "python",
   "name": "python3"
  },
  "language_info": {
   "codemirror_mode": {
    "name": "ipython",
    "version": 3
   },
   "file_extension": ".py",
   "mimetype": "text/x-python",
   "name": "python",
   "nbconvert_exporter": "python",
   "pygments_lexer": "ipython3",
   "version": "3.11.3"
  }
 },
 "nbformat": 4,
 "nbformat_minor": 5
}

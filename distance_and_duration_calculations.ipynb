{
 "cells": [
  {
   "cell_type": "code",
   "execution_count": 2,
   "id": "af710cb4",
   "metadata": {},
   "outputs": [],
   "source": [
    "# necessary libraries\n",
    "import pandas as pd\n",
    "import numpy as np\n",
    "import datetime"
   ]
  },
  {
   "cell_type": "code",
   "execution_count": 3,
   "id": "7c954846",
   "metadata": {},
   "outputs": [],
   "source": [
    "# import data from csv file\n",
    "df = pd.read_csv(\"Data_from_zindi/Train.csv\")"
   ]
  },
  {
   "cell_type": "code",
   "execution_count": 4,
   "id": "c7fd3a63",
   "metadata": {},
   "outputs": [],
   "source": [
    "# function to calculate the distances\n",
    "def haversine(lat1, lon1, lat2, lon2):\n",
    "    \"\"\"\n",
    "    Calculate the great circle distance between two points\n",
    "    on the earth (specified in decimal degrees)\n",
    "    \"\"\"\n",
    "    # Convert latitude and longitude from degrees to radians\n",
    "    lat1, lon1, lat2, lon2 = map(np.radians, [lat1, lon1, lat2, lon2])\n",
    "\n",
    "    # Haversine formula\n",
    "    dlon = lon2 - lon1\n",
    "    dlat = lat2 - lat1\n",
    "    a = np.sin(dlat/2)**2 + np.cos(lat1) * np.cos(lat2) * np.sin(dlon/2)**2\n",
    "    c = 2 * np.arcsin(np.sqrt(a))\n",
    "    r = 6371  # Radius of earth in kilometers. Use 3956 for miles\n",
    "    return c * r"
   ]
  },
  {
   "cell_type": "code",
   "execution_count": null,
   "id": "a72fc7e3",
   "metadata": {},
   "outputs": [
    {
     "name": "stderr",
     "output_type": "stream",
     "text": [
      "C:\\Users\\Roland\\AppData\\Local\\Temp\\ipykernel_8900\\703467676.py:5: SettingWithCopyWarning: \n",
      "A value is trying to be set on a copy of a slice from a DataFrame.\n",
      "Try using .loc[row_indexer,col_indexer] = value instead\n",
      "\n",
      "See the caveats in the documentation: https://pandas.pydata.org/pandas-docs/stable/user_guide/indexing.html#returning-a-view-versus-a-copy\n",
      "  df1[\"STD\"] = pd.to_datetime(df1[\"STD\"], format='%Y-%m-%d %H:%M:%S')\n",
      "C:\\Users\\Roland\\AppData\\Local\\Temp\\ipykernel_8900\\703467676.py:6: SettingWithCopyWarning: \n",
      "A value is trying to be set on a copy of a slice from a DataFrame.\n",
      "Try using .loc[row_indexer,col_indexer] = value instead\n",
      "\n",
      "See the caveats in the documentation: https://pandas.pydata.org/pandas-docs/stable/user_guide/indexing.html#returning-a-view-versus-a-copy\n",
      "  df1[\"STA\"] = pd.to_datetime(df1[\"STA\"], format='%Y-%m-%d %H.%M.%S')\n",
      "C:\\Users\\Roland\\AppData\\Local\\Temp\\ipykernel_8900\\703467676.py:9: SettingWithCopyWarning: \n",
      "A value is trying to be set on a copy of a slice from a DataFrame.\n",
      "Try using .loc[row_indexer,col_indexer] = value instead\n",
      "\n",
      "See the caveats in the documentation: https://pandas.pydata.org/pandas-docs/stable/user_guide/indexing.html#returning-a-view-versus-a-copy\n",
      "  df1['flight_duration'] = round((df1.STA - df1.STD) / pd.Timedelta(minutes=1))\n"
     ]
    }
   ],
   "source": [
    "# create new dataframe consisting of only data with flight status == ATA\n",
    "df1 = df.loc[df['STATUS'] == \"ATA\"]\n",
    "\n",
    "# set data type for start time and landing time columns\n",
    "df1[\"STD\"] = pd.to_datetime(df1[\"STD\"], format='%Y-%m-%d %H:%M:%S')\n",
    "df1[\"STA\"] = pd.to_datetime(df1[\"STA\"], format='%Y-%m-%d %H.%M.%S')\n",
    "\n",
    "# calculate flight duration and set unit to minutes\n",
    "df1['flight_duration'] = round((df1.STA - df1.STD) / pd.Timedelta(minutes=1))\n",
    "\n",
    "# import iata data from csv file (source: https://github.com/ip2location/ip2location-iata-icao)\n",
    "iata_data = pd.read_csv(\"iata-icao.csv\")\n",
    "iata_data = iata_data.drop([\"country_code\", \"region_name\", \"icao\", \"airport\"], axis=1)\n",
    "\n",
    "# create two dataframes to make merging easier (one for departure airport, one for destination airport)\n",
    "iata_data_dep = iata_data.rename(columns={\"iata\": \"DEPSTN\", \"latitude\": \"dep_lat\", \"longitude\": \"dep_lon\"})\n",
    "iata_data_arr = iata_data.rename(columns={\"iata\": \"ARRSTN\", \"latitude\": \"arr_lat\", \"longitude\": \"arr_lon\"})\n",
    "\n",
    "# merge iata data with \"original\" data frame\n",
    "df1 = pd.merge(df1, iata_data_arr, on=\"ARRSTN\", how=\"left\")\n",
    "df1 = pd.merge(df1, iata_data_dep, on=\"DEPSTN\", how=\"left\")\n",
    "\n",
    "# calculation of flight distance for each flight\n",
    "df1['flight_distance'] = df1.apply(lambda row: round(haversine(row['dep_lat'], row['dep_lon'], row['arr_lat'], row['arr_lon'])), axis=1)\n",
    "\n",
    "# drop latitude and longitude columns to slim down dataframe\n",
    "df1 = df1.drop([\"arr_lat\", \"arr_lon\", \"dep_lat\", \"dep_lon\"], axis=1)\n",
    "\n",
    "# export dataframe as csv to make it available for further actions (plots, etc.)\n",
    "df1.to_csv('flight_data_with_dist_and_dur.csv', index=False)"
   ]
  }
 ],
 "metadata": {
  "kernelspec": {
   "display_name": ".venv",
   "language": "python",
   "name": "python3"
  },
  "language_info": {
   "codemirror_mode": {
    "name": "ipython",
    "version": 3
   },
   "file_extension": ".py",
   "mimetype": "text/x-python",
   "name": "python",
   "nbconvert_exporter": "python",
   "pygments_lexer": "ipython3",
   "version": "3.11.3"
  }
 },
 "nbformat": 4,
 "nbformat_minor": 5
}

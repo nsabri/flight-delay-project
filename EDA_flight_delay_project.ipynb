{
 "cells": [
  {
   "cell_type": "markdown",
   "id": "dc69a884",
   "metadata": {},
   "source": [
    "Importing required packages"
   ]
  },
  {
   "cell_type": "code",
   "execution_count": null,
   "id": "7526963c",
   "metadata": {},
   "outputs": [],
   "source": [
    "import pandas as pd\n",
    "import preprocessing as pps"
   ]
  },
  {
   "cell_type": "markdown",
   "id": "698a4c2d",
   "metadata": {},
   "source": [
    "Read the data from the CSV file"
   ]
  },
  {
   "cell_type": "code",
   "execution_count": null,
   "id": "5e61db97",
   "metadata": {},
   "outputs": [],
   "source": [
    "df = pd.read_csv('data/Train.csv')\n",
    "df.head(10)"
   ]
  },
  {
   "cell_type": "markdown",
   "id": "8a02e666",
   "metadata": {},
   "source": [
    "One function to rule them all"
   ]
  },
  {
   "cell_type": "code",
   "execution_count": null,
   "id": "1731034f",
   "metadata": {},
   "outputs": [],
   "source": [
    "#df = pps.clean_data(df) # When you run it you do not need to run the rest below.\n",
    "#df.to_csv('data/cleaned_data.csv', index=False)\n",
    "#df.head(10)"
   ]
  },
  {
   "cell_type": "markdown",
   "id": "8a4187b7",
   "metadata": {},
   "source": [
    "Overviev of the data"
   ]
  },
  {
   "cell_type": "code",
   "execution_count": null,
   "id": "40d81c5c",
   "metadata": {},
   "outputs": [],
   "source": [
    "df.head(10)\n",
    "df.describe()\n",
    "df.info()"
   ]
  },
  {
   "cell_type": "code",
   "execution_count": null,
   "id": "f47eb23c",
   "metadata": {},
   "outputs": [],
   "source": [
    "# add aircraft type column\n",
    "df = pps.add_ac_type(df) \n",
    "df.head(10)\n",
    "df.AC_TYPE.value_counts()\n",
    "df.head(10)"
   ]
  },
  {
   "cell_type": "code",
   "execution_count": null,
   "id": "5066515e",
   "metadata": {},
   "outputs": [],
   "source": [
    "#Filter only flight status ATA\n",
    "df = pps.filter_flight_status(df)\n",
    "df.STATUS.value_counts()"
   ]
  },
  {
   "cell_type": "code",
   "execution_count": null,
   "id": "960f9058",
   "metadata": {},
   "outputs": [],
   "source": [
    "#convert STA and STD date (object) to datetime\n",
    "# We need them for the future calculations\n",
    "df = pps.convert_to_datetime(df)\n",
    "df.STA.info()\n",
    "df.STD.info()"
   ]
  },
  {
   "cell_type": "code",
   "execution_count": null,
   "id": "2148bc34",
   "metadata": {},
   "outputs": [],
   "source": [
    "df.head(10)"
   ]
  },
  {
   "cell_type": "code",
   "execution_count": null,
   "id": "acd9e4f9",
   "metadata": {},
   "outputs": [],
   "source": [
    "# add flight duration column\n",
    "df = pps.add_flight_duration(df)\n",
    "df.flight_duration.describe()\n",
    "df.head(10)"
   ]
  },
  {
   "cell_type": "code",
   "execution_count": null,
   "id": "1dd57a38",
   "metadata": {},
   "outputs": [],
   "source": [
    "# add month (Jan, Feb, Mar ..) and daypart (Early Morning, Morning, Afternoon, Evening, Night) columns\n",
    "df = pps.add_month(df)\n",
    "df = pps.add_dayparts(df)\n",
    "df = pps.add_hour_bucket(df)\n",
    "df.head(10)"
   ]
  },
  {
   "cell_type": "code",
   "execution_count": null,
   "id": "1eda21db",
   "metadata": {},
   "outputs": [],
   "source": [
    "columns_to_drop = ['ID', 'DATOP', 'FLTID', 'AC', 'STA', 'STD', 'STATUS'] # I am not really sure which columns to drop, but these are not needed for the analysis\n",
    "df = df.drop(columns=columns_to_drop)\n",
    "df.head(10)"
   ]
  },
  {
   "cell_type": "code",
   "execution_count": null,
   "id": "55bb64fa",
   "metadata": {},
   "outputs": [],
   "source": [
    "#export as csv file into data folder\n",
    "df.to_csv('data/cleaned_data.csv', index=False)"
   ]
  }
 ],
 "metadata": {
  "kernelspec": {
   "display_name": ".venv",
   "language": "python",
   "name": "python3"
  },
  "language_info": {
   "codemirror_mode": {
    "name": "ipython",
    "version": 3
   },
   "file_extension": ".py",
   "mimetype": "text/x-python",
   "name": "python",
   "nbconvert_exporter": "python",
   "pygments_lexer": "ipython3",
   "version": "3.11.3"
  }
 },
 "nbformat": 4,
 "nbformat_minor": 5
}
